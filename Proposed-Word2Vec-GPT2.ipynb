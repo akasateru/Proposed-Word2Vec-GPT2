{
 "cells": [
  {
   "cell_type": "markdown",
   "metadata": {},
   "source": [
    "# Proposed Word2Vec-GPT2"
   ]
  },
  {
   "cell_type": "code",
   "execution_count": 1,
   "metadata": {},
   "outputs": [],
   "source": [
    "from transformers import AutoTokenizer, TrainingArguments, Trainer, AutoModelForSequenceClassification, logging\n",
    "from sklearn.metrics import classification_report\n",
    "from sklearn.metrics.pairwise import cosine_similarity\n",
    "import gensim.downloader\n",
    "from tqdm import tqdm\n",
    "import numpy as np\n",
    "import datasets\n",
    "import string\n",
    "import evaluate\n",
    "import csv \n",
    "import re"
   ]
  },
  {
   "cell_type": "code",
   "execution_count": 2,
   "metadata": {},
   "outputs": [],
   "source": [
    "np.random.seed(0)\n",
    "logging.set_verbosity_error()\n",
    "logging.set_verbosity_warning()\n",
    "HF_HUB_DISABLE_SYMLINKS_WARNING = True\n",
    "\n",
    "import datetime\n",
    "t_delta = datetime.timedelta(hours=9)\n",
    "JST = datetime.timezone(t_delta, 'JST')\n",
    "now = datetime.datetime.now(JST)"
   ]
  },
  {
   "cell_type": "code",
   "execution_count": 3,
   "metadata": {},
   "outputs": [],
   "source": [
    "# parameters\n",
    "MODEL = \"gpt2\"\n",
    "SAVED_MODEL = \"../model/Proposed-Word2Vec-GPT2_\"+str(now.strftime('%Y%m%d%H%M%S'))\n",
    "THRESHOLD = 0.05\n",
    "MAXLEN_GET_PSEUDO = 3000\n",
    "EPOCH = 20\n",
    "BATCH_SIZE = 8"
   ]
  },
  {
   "cell_type": "code",
   "execution_count": 4,
   "metadata": {},
   "outputs": [
    {
     "name": "stdout",
     "output_type": "stream",
     "text": [
      "../model/Proposed-Word2Vec-GPT2_20221125153534\n"
     ]
    }
   ],
   "source": [
    "print(SAVED_MODEL)"
   ]
  },
  {
   "cell_type": "markdown",
   "metadata": {},
   "source": [
    "# Load Dataset"
   ]
  },
  {
   "cell_type": "code",
   "execution_count": 5,
   "metadata": {},
   "outputs": [],
   "source": [
    "# 前処理\n",
    "def preprocessing(text):\n",
    "    # 括弧内文章の削除\n",
    "    text = re.sub(r'\\(.*\\)',' ',text)\n",
    "    text = re.sub(r'\\[.*\\]',' ',text)\n",
    "    text = re.sub(r'\\<.*\\>',' ',text)\n",
    "    text = re.sub(r'\\{.*\\}',' ',text)\n",
    "    # 記号文字の削除\n",
    "    text = text.translate(str.maketrans('','',string.punctuation))\n",
    "    # スペースの調整\n",
    "    text = re.sub(r'\\s+',' ',text)\n",
    "    return text"
   ]
  },
  {
   "cell_type": "code",
   "execution_count": 6,
   "metadata": {},
   "outputs": [
    {
     "name": "stderr",
     "output_type": "stream",
     "text": [
      "100%|██████████| 18846/18846 [00:01<00:00, 17220.70it/s]\n"
     ]
    }
   ],
   "source": [
    "# 20 newsgroups datasets\n",
    "from sklearn.datasets import fetch_20newsgroups\n",
    "newsgroups = fetch_20newsgroups(subset=\"all\")\n",
    "newsgroups_datasets = list()\n",
    "\n",
    "# # example ------------------------------------------------\n",
    "# for texts in tqdm(newsgroups.data[:1000]):\n",
    "#   texts = texts.split(\"\\n\\n\")\n",
    "#   texts = \" \".join(texts[1:])\n",
    "#   newsgroups_datasets.append(preprocessing(texts))\n",
    "# # --------------------------------------------------------\n",
    "\n",
    "for texts in tqdm(newsgroups.data):\n",
    "  texts = texts.split(\"\\n\\n\")\n",
    "  texts = \" \".join(texts[1:])\n",
    "  newsgroups_datasets.append(preprocessing(texts))"
   ]
  },
  {
   "cell_type": "code",
   "execution_count": 7,
   "metadata": {},
   "outputs": [
    {
     "name": "stderr",
     "output_type": "stream",
     "text": [
      "100%|██████████| 1300000/1300000 [00:28<00:00, 45063.33it/s]\n"
     ]
    }
   ],
   "source": [
    "# yahoo topic datasets\n",
    "with open('../data/topic/train_pu_half_v0.txt','r',encoding='utf-8') as f:\n",
    "    texts_v0 = f.read()\n",
    "with open('../data/topic/train_pu_half_v1.txt','r',encoding='utf-8') as f:\n",
    "    texts_v1 = f.read()\n",
    "texts = texts_v0 + texts_v1\n",
    "topic_datasets = list()\n",
    "\n",
    "# # example ----------------------------------------------\n",
    "# for label_text in tqdm(texts.splitlines()[:1000]):\n",
    "#   _, text = label_text.split(\"\\t\")\n",
    "#   topic_datasets.append(preprocessing(text))\n",
    "# # -------------------------------------------------------\n",
    "\n",
    "for label_text in tqdm(texts.splitlines()):\n",
    "  _, text = label_text.split(\"\\t\")\n",
    "  topic_datasets.append(preprocessing(text))"
   ]
  },
  {
   "cell_type": "code",
   "execution_count": 8,
   "metadata": {},
   "outputs": [
    {
     "name": "stderr",
     "output_type": "stream",
     "text": [
      "100%|██████████| 762027/762027 [00:30<00:00, 24703.01it/s]\n"
     ]
    }
   ],
   "source": [
    "# reuters datasets\n",
    "with open(\"../data/reuter/sourceall.txt\", \"r\", encoding=\"utf-8\") as f:\n",
    "  reuter = f.read().split(\"\\n\")[:-1]\n",
    "\n",
    "# # example -----------------------------------\n",
    "# reuter = reuter[:100]\n",
    "# # -------------------------------------------\n",
    "\n",
    "reuters_datasets = list()\n",
    "for label_text in tqdm(reuter):\n",
    "  _, text = label_text.split(\"\\t\")\n",
    "  reuters_datasets.append(preprocessing(text))"
   ]
  },
  {
   "cell_type": "code",
   "execution_count": 9,
   "metadata": {},
   "outputs": [
    {
     "name": "stderr",
     "output_type": "stream",
     "text": [
      "100%|██████████| 560000/560000 [00:08<00:00, 64779.26it/s]\n"
     ]
    }
   ],
   "source": [
    "# dbpedia datasets train\n",
    "with open('../data/dbpedia_csv/train.csv','r',encoding='utf-8') as f:\n",
    "    reader = [r for r in csv.reader(f)]\n",
    "    \n",
    "# # example -------------------\n",
    "# reader = reader[:100]\n",
    "# #----------------------------\n",
    "\n",
    "dbpedia_train_datasets = list()\n",
    "for _, auth, text in tqdm(reader):\n",
    "    text = text.replace(auth,'')\n",
    "    dbpedia_train_datasets.append(preprocessing(text))"
   ]
  },
  {
   "cell_type": "code",
   "execution_count": 10,
   "metadata": {},
   "outputs": [],
   "source": [
    "# dbpedia classes\n",
    "with open(\"../data/dbpedia_csv/classes.txt\", \"r\", encoding=\"utf-8\") as f:\n",
    "  classes = f.read().splitlines()"
   ]
  },
  {
   "cell_type": "code",
   "execution_count": 11,
   "metadata": {},
   "outputs": [],
   "source": [
    "datasets_texts = newsgroups_datasets + topic_datasets + reuters_datasets + dbpedia_train_datasets"
   ]
  },
  {
   "cell_type": "markdown",
   "metadata": {},
   "source": [
    "# Choice method"
   ]
  },
  {
   "cell_type": "code",
   "execution_count": 12,
   "metadata": {},
   "outputs": [],
   "source": [
    "word2vec = gensim.downloader.load('word2vec-google-news-300')\n",
    "\n",
    "def w2v_avg_vector(sentence):\n",
    "  vector = np.zeros((300,), dtype=\"float32\")\n",
    "  count = 0\n",
    "  for word in sentence.split():\n",
    "    try:\n",
    "      vector = np.add(vector, word2vec[word])\n",
    "      count += 1\n",
    "    except:\n",
    "      pass\n",
    "  if count > 0:\n",
    "    vector = np.divide(vector, len(word))\n",
    "  return vector"
   ]
  },
  {
   "cell_type": "code",
   "execution_count": 13,
   "metadata": {},
   "outputs": [],
   "source": [
    "classes_vector = list()\n",
    "for cls in classes:\n",
    "  classes_vector.append(w2v_avg_vector(cls))"
   ]
  },
  {
   "cell_type": "code",
   "execution_count": 14,
   "metadata": {},
   "outputs": [
    {
     "name": "stderr",
     "output_type": "stream",
     "text": [
      "100%|██████████| 2640873/2640873 [12:32<00:00, 3511.06it/s]\n"
     ]
    }
   ],
   "source": [
    "diff_datasets = {i:[] for i in range(len(classes))}\n",
    "for texts in tqdm(datasets_texts):\n",
    "  texts_vector = w2v_avg_vector(texts)\n",
    "  similarity = cosine_similarity([texts_vector], classes_vector)[0]\n",
    "  sim_argsorted = np.argsort(similarity)\n",
    "  diff = similarity[sim_argsorted[-1]] - similarity[sim_argsorted[-2]]\n",
    "  if diff > THRESHOLD:\n",
    "    diff_datasets[sim_argsorted[-1]].append((similarity[sim_argsorted[-1]], texts))\n",
    "\n",
    "pseudo_texts = list()\n",
    "pseudo_labels = list()\n",
    "for i in range(len(classes)):\n",
    "  sorted_diff_data = sorted(diff_datasets[i], reverse=True)[:MAXLEN_GET_PSEUDO]\n",
    "  pseudo_texts.extend([i[1] for i in sorted_diff_data])\n",
    "  pseudo_labels.extend([i]*len(sorted_diff_data[:MAXLEN_GET_PSEUDO]))"
   ]
  },
  {
   "cell_type": "code",
   "execution_count": 15,
   "metadata": {},
   "outputs": [
    {
     "name": "stdout",
     "output_type": "stream",
     "text": [
      "Number of all selected data\n",
      "Com. : 61181\n",
      "Edu. : 34672\n",
      "Art. : 6818\n",
      "Ath. : 16123\n",
      "Off. : 126858\n",
      "Mea. : 144368\n",
      "Bui. : 10120\n",
      "Nat. : 38562\n",
      "Vil. : 35431\n",
      "Ani. : 4742\n",
      "Pla. : 13933\n",
      "Alb. : 42379\n",
      "Fil. : 26335\n",
      "Wri. : 23263\n"
     ]
    }
   ],
   "source": [
    "print(\"Number of all selected data\")\n",
    "for i in diff_datasets:\n",
    "  print(classes[i][:3]+\". : \"+str(len(diff_datasets[i])))"
   ]
  },
  {
   "cell_type": "code",
   "execution_count": 16,
   "metadata": {},
   "outputs": [
    {
     "name": "stderr",
     "output_type": "stream",
     "text": [
      "100%|██████████| 70000/70000 [00:01<00:00, 64545.32it/s]\n"
     ]
    }
   ],
   "source": [
    "# load test data\n",
    "# dbpedia datasets train\n",
    "with open('../data/dbpedia_csv/test.csv','r',encoding='utf-8') as f:\n",
    "    reader = [r for r in csv.reader(f)]\n",
    "    \n",
    "# # example -------------------\n",
    "# import random\n",
    "# reader = random.sample(reader, 100)\n",
    "# #----------------------------\n",
    "\n",
    "test_texts = list()\n",
    "test_labels = list()\n",
    "for labels, auth, text in tqdm(reader):\n",
    "    text = text.replace(auth,'')\n",
    "    test_texts.append(preprocessing(text))\n",
    "    test_labels.append(int(labels)-1)"
   ]
  },
  {
   "cell_type": "code",
   "execution_count": 17,
   "metadata": {},
   "outputs": [
    {
     "data": {
      "application/vnd.jupyter.widget-view+json": {
       "model_id": "9feecbe2284544b28a514ce4c5caaeb6",
       "version_major": 2,
       "version_minor": 0
      },
      "text/plain": [
       "  0%|          | 0/42 [00:00<?, ?ba/s]"
      ]
     },
     "metadata": {},
     "output_type": "display_data"
    },
    {
     "data": {
      "application/vnd.jupyter.widget-view+json": {
       "model_id": "e0b75038873543feb738372250732348",
       "version_major": 2,
       "version_minor": 0
      },
      "text/plain": [
       "  0%|          | 0/70 [00:00<?, ?ba/s]"
      ]
     },
     "metadata": {},
     "output_type": "display_data"
    },
    {
     "name": "stdout",
     "output_type": "stream",
     "text": [
      "DatasetDict({\n",
      "    train: Dataset({\n",
      "        features: ['label', 'input_ids', 'attention_mask'],\n",
      "        num_rows: 42000\n",
      "    })\n",
      "    test: Dataset({\n",
      "        features: ['label', 'input_ids', 'attention_mask'],\n",
      "        num_rows: 70000\n",
      "    })\n",
      "})\n"
     ]
    }
   ],
   "source": [
    "import datasets\n",
    "\n",
    "tokenizer = AutoTokenizer.from_pretrained(MODEL)\n",
    "tokenizer.pad_token = tokenizer.eos_token\n",
    "\n",
    "train_dataset = datasets.Dataset.from_dict({\"text\":pseudo_texts, \"label\":pseudo_labels})\n",
    "test_dataset = datasets.Dataset.from_dict({\"text\":test_texts, \"label\":test_labels})\n",
    "dataset = datasets.DatasetDict({\"train\":train_dataset, \"test\":test_dataset})\n",
    "\n",
    "def tokenize_function(examples):\n",
    "    return tokenizer(examples[\"text\"], truncation=True, return_tensors=\"pt\", padding=\"max_length\", max_length=512)\n",
    "\n",
    "tokenized_datasets = dataset.map(tokenize_function, batched=True)\n",
    "tokenized_datasets = tokenized_datasets.remove_columns('text')\n",
    "print(tokenized_datasets)"
   ]
  },
  {
   "cell_type": "code",
   "execution_count": 18,
   "metadata": {},
   "outputs": [],
   "source": [
    "small_train_dataset = tokenized_datasets[\"train\"].shuffle(seed=42) #.select(range(5000))\n",
    "small_eval_dataset = tokenized_datasets[\"test\"].shuffle(seed=42) #.select(range(1000))"
   ]
  },
  {
   "cell_type": "markdown",
   "metadata": {},
   "source": [
    "# Fine Tuning"
   ]
  },
  {
   "cell_type": "code",
   "execution_count": 19,
   "metadata": {},
   "outputs": [
    {
     "name": "stderr",
     "output_type": "stream",
     "text": [
      "Some weights of GPT2ForSequenceClassification were not initialized from the model checkpoint at gpt2 and are newly initialized: ['score.weight']\n",
      "You should probably TRAIN this model on a down-stream task to be able to use it for predictions and inference.\n"
     ]
    }
   ],
   "source": [
    "model = AutoModelForSequenceClassification.from_pretrained(MODEL, num_labels=14)\n",
    "model.config.pad_token_id = model.config.eos_token_id"
   ]
  },
  {
   "cell_type": "code",
   "execution_count": 20,
   "metadata": {},
   "outputs": [],
   "source": [
    "import evaluate\n",
    "def compute_metrics(eval_pred):\n",
    "    logits, labels = eval_pred\n",
    "    predictions = np.argmax(logits, axis=-1)\n",
    "    return evaluate.load(\"accuracy\").compute(predictions=predictions, references=labels)"
   ]
  },
  {
   "cell_type": "code",
   "execution_count": 21,
   "metadata": {},
   "outputs": [],
   "source": [
    "training_args = TrainingArguments(\n",
    "  output_dir=SAVED_MODEL,\n",
    "  num_train_epochs=EPOCH,\n",
    "  per_device_train_batch_size=BATCH_SIZE,\n",
    "  per_device_eval_batch_size=BATCH_SIZE,\n",
    "  evaluation_strategy=\"epoch\",\n",
    "  save_strategy=\"no\",\n",
    "  optim=\"adamw_torch\",\n",
    "  report_to=\"none\"\n",
    "  )\n",
    "\n",
    "trainer = Trainer(\n",
    "    model=model,\n",
    "    args=training_args,\n",
    "    train_dataset=small_train_dataset,\n",
    "    eval_dataset=small_eval_dataset,\n",
    "    compute_metrics=compute_metrics,\n",
    ")"
   ]
  },
  {
   "cell_type": "code",
   "execution_count": 22,
   "metadata": {},
   "outputs": [
    {
     "name": "stderr",
     "output_type": "stream",
     "text": [
      "***** Running training *****\n",
      "  Num examples = 42000\n",
      "  Num Epochs = 20\n",
      "  Instantaneous batch size per device = 8\n",
      "  Total train batch size (w. parallel, distributed & accumulation) = 8\n",
      "  Gradient Accumulation steps = 1\n",
      "  Total optimization steps = 105000\n",
      "  Number of trainable parameters = 124450560\n"
     ]
    },
    {
     "data": {
      "application/vnd.jupyter.widget-view+json": {
       "model_id": "1a345390efd24984b8edfb9872b16a97",
       "version_major": 2,
       "version_minor": 0
      },
      "text/plain": [
       "  0%|          | 0/105000 [00:00<?, ?it/s]"
      ]
     },
     "metadata": {},
     "output_type": "display_data"
    },
    {
     "name": "stdout",
     "output_type": "stream",
     "text": [
      "{'loss': 0.7792, 'learning_rate': 4.976190476190477e-05, 'epoch': 0.1}\n",
      "{'loss': 0.257, 'learning_rate': 4.9523809523809525e-05, 'epoch': 0.19}\n",
      "{'loss': 0.1895, 'learning_rate': 4.928571428571429e-05, 'epoch': 0.29}\n",
      "{'loss': 0.1263, 'learning_rate': 4.904761904761905e-05, 'epoch': 0.38}\n",
      "{'loss': 0.1448, 'learning_rate': 4.880952380952381e-05, 'epoch': 0.48}\n",
      "{'loss': 0.1316, 'learning_rate': 4.8571428571428576e-05, 'epoch': 0.57}\n",
      "{'loss': 0.1237, 'learning_rate': 4.8333333333333334e-05, 'epoch': 0.67}\n",
      "{'loss': 0.1299, 'learning_rate': 4.80952380952381e-05, 'epoch': 0.76}\n",
      "{'loss': 0.1249, 'learning_rate': 4.785714285714286e-05, 'epoch': 0.86}\n",
      "{'loss': 0.1259, 'learning_rate': 4.761904761904762e-05, 'epoch': 0.95}\n"
     ]
    },
    {
     "name": "stderr",
     "output_type": "stream",
     "text": [
      "***** Running Evaluation *****\n",
      "  Num examples = 70000\n",
      "  Batch size = 8\n"
     ]
    },
    {
     "data": {
      "application/vnd.jupyter.widget-view+json": {
       "model_id": "979f713cc1cd40a8b38bf017efd92102",
       "version_major": 2,
       "version_minor": 0
      },
      "text/plain": [
       "  0%|          | 0/8750 [00:00<?, ?it/s]"
      ]
     },
     "metadata": {},
     "output_type": "display_data"
    },
    {
     "name": "stdout",
     "output_type": "stream",
     "text": [
      "{'eval_loss': 3.114703893661499, 'eval_accuracy': 0.5835428571428571, 'eval_runtime': 628.2189, 'eval_samples_per_second': 111.426, 'eval_steps_per_second': 13.928, 'epoch': 1.0}\n",
      "{'loss': 0.0825, 'learning_rate': 4.738095238095238e-05, 'epoch': 1.05}\n",
      "{'loss': 0.0664, 'learning_rate': 4.714285714285714e-05, 'epoch': 1.14}\n",
      "{'loss': 0.0769, 'learning_rate': 4.690476190476191e-05, 'epoch': 1.24}\n",
      "{'loss': 0.0788, 'learning_rate': 4.666666666666667e-05, 'epoch': 1.33}\n",
      "{'loss': 0.0587, 'learning_rate': 4.642857142857143e-05, 'epoch': 1.43}\n",
      "{'loss': 0.0821, 'learning_rate': 4.6190476190476194e-05, 'epoch': 1.52}\n",
      "{'loss': 0.0738, 'learning_rate': 4.595238095238095e-05, 'epoch': 1.62}\n",
      "{'loss': 0.0759, 'learning_rate': 4.5714285714285716e-05, 'epoch': 1.71}\n",
      "{'loss': 0.0938, 'learning_rate': 4.547619047619048e-05, 'epoch': 1.81}\n",
      "{'loss': 0.0595, 'learning_rate': 4.523809523809524e-05, 'epoch': 1.9}\n"
     ]
    },
    {
     "name": "stderr",
     "output_type": "stream",
     "text": [
      "***** Running Evaluation *****\n",
      "  Num examples = 70000\n",
      "  Batch size = 8\n"
     ]
    },
    {
     "name": "stdout",
     "output_type": "stream",
     "text": [
      "{'loss': 0.0524, 'learning_rate': 4.5e-05, 'epoch': 2.0}\n"
     ]
    },
    {
     "data": {
      "application/vnd.jupyter.widget-view+json": {
       "model_id": "869fe846a74e4303ad4ae047e18b0b46",
       "version_major": 2,
       "version_minor": 0
      },
      "text/plain": [
       "  0%|          | 0/8750 [00:00<?, ?it/s]"
      ]
     },
     "metadata": {},
     "output_type": "display_data"
    },
    {
     "name": "stdout",
     "output_type": "stream",
     "text": [
      "{'eval_loss': 2.8586108684539795, 'eval_accuracy': 0.6509714285714285, 'eval_runtime': 643.638, 'eval_samples_per_second': 108.757, 'eval_steps_per_second': 13.595, 'epoch': 2.0}\n",
      "{'loss': 0.0447, 'learning_rate': 4.476190476190477e-05, 'epoch': 2.1}\n",
      "{'loss': 0.0369, 'learning_rate': 4.4523809523809525e-05, 'epoch': 2.19}\n",
      "{'loss': 0.0358, 'learning_rate': 4.428571428571428e-05, 'epoch': 2.29}\n",
      "{'loss': 0.0345, 'learning_rate': 4.404761904761905e-05, 'epoch': 2.38}\n",
      "{'loss': 0.045, 'learning_rate': 4.380952380952381e-05, 'epoch': 2.48}\n",
      "{'loss': 0.0396, 'learning_rate': 4.3571428571428576e-05, 'epoch': 2.57}\n",
      "{'loss': 0.0437, 'learning_rate': 4.3333333333333334e-05, 'epoch': 2.67}\n",
      "{'loss': 0.0393, 'learning_rate': 4.30952380952381e-05, 'epoch': 2.76}\n",
      "{'loss': 0.0368, 'learning_rate': 4.2857142857142856e-05, 'epoch': 2.86}\n",
      "{'loss': 0.0339, 'learning_rate': 4.261904761904762e-05, 'epoch': 2.95}\n"
     ]
    },
    {
     "name": "stderr",
     "output_type": "stream",
     "text": [
      "***** Running Evaluation *****\n",
      "  Num examples = 70000\n",
      "  Batch size = 8\n"
     ]
    },
    {
     "data": {
      "application/vnd.jupyter.widget-view+json": {
       "model_id": "43b681fca0b14e16bf79fc6b8b6e64e1",
       "version_major": 2,
       "version_minor": 0
      },
      "text/plain": [
       "  0%|          | 0/8750 [00:00<?, ?it/s]"
      ]
     },
     "metadata": {},
     "output_type": "display_data"
    },
    {
     "name": "stdout",
     "output_type": "stream",
     "text": [
      "{'eval_loss': 3.3832809925079346, 'eval_accuracy': 0.6400285714285714, 'eval_runtime': 644.7318, 'eval_samples_per_second': 108.572, 'eval_steps_per_second': 13.572, 'epoch': 3.0}\n",
      "{'loss': 0.0363, 'learning_rate': 4.2380952380952385e-05, 'epoch': 3.05}\n",
      "{'loss': 0.0123, 'learning_rate': 4.214285714285714e-05, 'epoch': 3.14}\n",
      "{'loss': 0.0226, 'learning_rate': 4.190476190476191e-05, 'epoch': 3.24}\n",
      "{'loss': 0.0306, 'learning_rate': 4.166666666666667e-05, 'epoch': 3.33}\n",
      "{'loss': 0.0213, 'learning_rate': 4.1428571428571437e-05, 'epoch': 3.43}\n",
      "{'loss': 0.0342, 'learning_rate': 4.119047619047619e-05, 'epoch': 3.52}\n",
      "{'loss': 0.0101, 'learning_rate': 4.095238095238095e-05, 'epoch': 3.62}\n",
      "{'loss': 0.0436, 'learning_rate': 4.0714285714285717e-05, 'epoch': 3.71}\n",
      "{'loss': 0.0253, 'learning_rate': 4.047619047619048e-05, 'epoch': 3.81}\n",
      "{'loss': 0.017, 'learning_rate': 4.023809523809524e-05, 'epoch': 3.9}\n"
     ]
    },
    {
     "name": "stderr",
     "output_type": "stream",
     "text": [
      "***** Running Evaluation *****\n",
      "  Num examples = 70000\n",
      "  Batch size = 8\n"
     ]
    },
    {
     "name": "stdout",
     "output_type": "stream",
     "text": [
      "{'loss': 0.0215, 'learning_rate': 4e-05, 'epoch': 4.0}\n"
     ]
    },
    {
     "data": {
      "application/vnd.jupyter.widget-view+json": {
       "model_id": "e0ed4531398c4e0c841d513b2d8867ca",
       "version_major": 2,
       "version_minor": 0
      },
      "text/plain": [
       "  0%|          | 0/8750 [00:00<?, ?it/s]"
      ]
     },
     "metadata": {},
     "output_type": "display_data"
    },
    {
     "name": "stdout",
     "output_type": "stream",
     "text": [
      "{'eval_loss': 3.731532096862793, 'eval_accuracy': 0.6701571428571429, 'eval_runtime': 645.6696, 'eval_samples_per_second': 108.415, 'eval_steps_per_second': 13.552, 'epoch': 4.0}\n",
      "{'loss': 0.0274, 'learning_rate': 3.976190476190476e-05, 'epoch': 4.1}\n",
      "{'loss': 0.0115, 'learning_rate': 3.9523809523809526e-05, 'epoch': 4.19}\n",
      "{'loss': 0.0215, 'learning_rate': 3.928571428571429e-05, 'epoch': 4.29}\n",
      "{'loss': 0.013, 'learning_rate': 3.904761904761905e-05, 'epoch': 4.38}\n",
      "{'loss': 0.0296, 'learning_rate': 3.880952380952381e-05, 'epoch': 4.48}\n",
      "{'loss': 0.0147, 'learning_rate': 3.857142857142858e-05, 'epoch': 4.57}\n",
      "{'loss': 0.0153, 'learning_rate': 3.8333333333333334e-05, 'epoch': 4.67}\n",
      "{'loss': 0.0282, 'learning_rate': 3.809523809523809e-05, 'epoch': 4.76}\n",
      "{'loss': 0.0133, 'learning_rate': 3.785714285714286e-05, 'epoch': 4.86}\n",
      "{'loss': 0.0259, 'learning_rate': 3.761904761904762e-05, 'epoch': 4.95}\n"
     ]
    },
    {
     "name": "stderr",
     "output_type": "stream",
     "text": [
      "***** Running Evaluation *****\n",
      "  Num examples = 70000\n",
      "  Batch size = 8\n"
     ]
    },
    {
     "data": {
      "application/vnd.jupyter.widget-view+json": {
       "model_id": "995aa260ec694142bad1b1756d6659a4",
       "version_major": 2,
       "version_minor": 0
      },
      "text/plain": [
       "  0%|          | 0/8750 [00:00<?, ?it/s]"
      ]
     },
     "metadata": {},
     "output_type": "display_data"
    },
    {
     "name": "stdout",
     "output_type": "stream",
     "text": [
      "{'eval_loss': 4.514944076538086, 'eval_accuracy': 0.6274571428571428, 'eval_runtime': 644.2606, 'eval_samples_per_second': 108.652, 'eval_steps_per_second': 13.581, 'epoch': 5.0}\n",
      "{'loss': 0.0215, 'learning_rate': 3.7380952380952386e-05, 'epoch': 5.05}\n",
      "{'loss': 0.0176, 'learning_rate': 3.7142857142857143e-05, 'epoch': 5.14}\n",
      "{'loss': 0.0138, 'learning_rate': 3.690476190476191e-05, 'epoch': 5.24}\n",
      "{'loss': 0.0203, 'learning_rate': 3.6666666666666666e-05, 'epoch': 5.33}\n",
      "{'loss': 0.0089, 'learning_rate': 3.642857142857143e-05, 'epoch': 5.43}\n",
      "{'loss': 0.0221, 'learning_rate': 3.619047619047619e-05, 'epoch': 5.52}\n",
      "{'loss': 0.0131, 'learning_rate': 3.595238095238095e-05, 'epoch': 5.62}\n",
      "{'loss': 0.0127, 'learning_rate': 3.571428571428572e-05, 'epoch': 5.71}\n",
      "{'loss': 0.0128, 'learning_rate': 3.547619047619048e-05, 'epoch': 5.81}\n",
      "{'loss': 0.0186, 'learning_rate': 3.523809523809524e-05, 'epoch': 5.9}\n"
     ]
    },
    {
     "name": "stderr",
     "output_type": "stream",
     "text": [
      "***** Running Evaluation *****\n",
      "  Num examples = 70000\n",
      "  Batch size = 8\n"
     ]
    },
    {
     "name": "stdout",
     "output_type": "stream",
     "text": [
      "{'loss': 0.0166, 'learning_rate': 3.5e-05, 'epoch': 6.0}\n"
     ]
    },
    {
     "data": {
      "application/vnd.jupyter.widget-view+json": {
       "model_id": "913b4490e1fe46d9b7e847acea409384",
       "version_major": 2,
       "version_minor": 0
      },
      "text/plain": [
       "  0%|          | 0/8750 [00:00<?, ?it/s]"
      ]
     },
     "metadata": {},
     "output_type": "display_data"
    },
    {
     "name": "stdout",
     "output_type": "stream",
     "text": [
      "{'eval_loss': 3.721174478530884, 'eval_accuracy': 0.6677714285714286, 'eval_runtime': 644.3999, 'eval_samples_per_second': 108.628, 'eval_steps_per_second': 13.579, 'epoch': 6.0}\n",
      "{'loss': 0.0069, 'learning_rate': 3.476190476190476e-05, 'epoch': 6.1}\n",
      "{'loss': 0.0031, 'learning_rate': 3.4523809523809526e-05, 'epoch': 6.19}\n",
      "{'loss': 0.0034, 'learning_rate': 3.428571428571429e-05, 'epoch': 6.29}\n",
      "{'loss': 0.0118, 'learning_rate': 3.404761904761905e-05, 'epoch': 6.38}\n",
      "{'loss': 0.0168, 'learning_rate': 3.380952380952381e-05, 'epoch': 6.48}\n",
      "{'loss': 0.0112, 'learning_rate': 3.357142857142857e-05, 'epoch': 6.57}\n",
      "{'loss': 0.0091, 'learning_rate': 3.3333333333333335e-05, 'epoch': 6.67}\n",
      "{'loss': 0.01, 'learning_rate': 3.309523809523809e-05, 'epoch': 6.76}\n",
      "{'loss': 0.0123, 'learning_rate': 3.285714285714286e-05, 'epoch': 6.86}\n",
      "{'loss': 0.0195, 'learning_rate': 3.261904761904762e-05, 'epoch': 6.95}\n"
     ]
    },
    {
     "name": "stderr",
     "output_type": "stream",
     "text": [
      "***** Running Evaluation *****\n",
      "  Num examples = 70000\n",
      "  Batch size = 8\n"
     ]
    },
    {
     "data": {
      "application/vnd.jupyter.widget-view+json": {
       "model_id": "1f83d90a9fed454a9b06af1cec1b2590",
       "version_major": 2,
       "version_minor": 0
      },
      "text/plain": [
       "  0%|          | 0/8750 [00:00<?, ?it/s]"
      ]
     },
     "metadata": {},
     "output_type": "display_data"
    },
    {
     "name": "stdout",
     "output_type": "stream",
     "text": [
      "{'eval_loss': 3.7025766372680664, 'eval_accuracy': 0.6515714285714286, 'eval_runtime': 642.8738, 'eval_samples_per_second': 108.886, 'eval_steps_per_second': 13.611, 'epoch': 7.0}\n",
      "{'loss': 0.0143, 'learning_rate': 3.2380952380952386e-05, 'epoch': 7.05}\n",
      "{'loss': 0.0087, 'learning_rate': 3.2142857142857144e-05, 'epoch': 7.14}\n",
      "{'loss': 0.0063, 'learning_rate': 3.19047619047619e-05, 'epoch': 7.24}\n",
      "{'loss': 0.0078, 'learning_rate': 3.1666666666666666e-05, 'epoch': 7.33}\n",
      "{'loss': 0.0083, 'learning_rate': 3.142857142857143e-05, 'epoch': 7.43}\n",
      "{'loss': 0.0086, 'learning_rate': 3.1190476190476195e-05, 'epoch': 7.52}\n",
      "{'loss': 0.005, 'learning_rate': 3.095238095238095e-05, 'epoch': 7.62}\n",
      "{'loss': 0.0076, 'learning_rate': 3.071428571428572e-05, 'epoch': 7.71}\n",
      "{'loss': 0.0222, 'learning_rate': 3.0476190476190482e-05, 'epoch': 7.81}\n",
      "{'loss': 0.0116, 'learning_rate': 3.0238095238095236e-05, 'epoch': 7.9}\n"
     ]
    },
    {
     "name": "stderr",
     "output_type": "stream",
     "text": [
      "***** Running Evaluation *****\n",
      "  Num examples = 70000\n",
      "  Batch size = 8\n"
     ]
    },
    {
     "name": "stdout",
     "output_type": "stream",
     "text": [
      "{'loss': 0.0065, 'learning_rate': 3e-05, 'epoch': 8.0}\n"
     ]
    },
    {
     "data": {
      "application/vnd.jupyter.widget-view+json": {
       "model_id": "41121947a3fb40c5b46683ef5a7d5889",
       "version_major": 2,
       "version_minor": 0
      },
      "text/plain": [
       "  0%|          | 0/8750 [00:00<?, ?it/s]"
      ]
     },
     "metadata": {},
     "output_type": "display_data"
    },
    {
     "name": "stdout",
     "output_type": "stream",
     "text": [
      "{'eval_loss': 4.049188613891602, 'eval_accuracy': 0.6430428571428571, 'eval_runtime': 643.2759, 'eval_samples_per_second': 108.818, 'eval_steps_per_second': 13.602, 'epoch': 8.0}\n",
      "{'loss': 0.0096, 'learning_rate': 2.9761904761904762e-05, 'epoch': 8.1}\n",
      "{'loss': 0.0006, 'learning_rate': 2.9523809523809526e-05, 'epoch': 8.19}\n",
      "{'loss': 0.0023, 'learning_rate': 2.9285714285714288e-05, 'epoch': 8.29}\n",
      "{'loss': 0.0056, 'learning_rate': 2.9047619047619052e-05, 'epoch': 8.38}\n",
      "{'loss': 0.0063, 'learning_rate': 2.880952380952381e-05, 'epoch': 8.48}\n",
      "{'loss': 0.012, 'learning_rate': 2.857142857142857e-05, 'epoch': 8.57}\n",
      "{'loss': 0.0044, 'learning_rate': 2.8333333333333335e-05, 'epoch': 8.67}\n",
      "{'loss': 0.0018, 'learning_rate': 2.8095238095238096e-05, 'epoch': 8.76}\n",
      "{'loss': 0.0075, 'learning_rate': 2.785714285714286e-05, 'epoch': 8.86}\n",
      "{'loss': 0.0033, 'learning_rate': 2.7619047619047622e-05, 'epoch': 8.95}\n"
     ]
    },
    {
     "name": "stderr",
     "output_type": "stream",
     "text": [
      "***** Running Evaluation *****\n",
      "  Num examples = 70000\n",
      "  Batch size = 8\n"
     ]
    },
    {
     "data": {
      "application/vnd.jupyter.widget-view+json": {
       "model_id": "45c45090338b42699dd79dfd51e587fc",
       "version_major": 2,
       "version_minor": 0
      },
      "text/plain": [
       "  0%|          | 0/8750 [00:00<?, ?it/s]"
      ]
     },
     "metadata": {},
     "output_type": "display_data"
    },
    {
     "name": "stdout",
     "output_type": "stream",
     "text": [
      "{'eval_loss': 4.9771809577941895, 'eval_accuracy': 0.6092571428571428, 'eval_runtime': 643.9593, 'eval_samples_per_second': 108.703, 'eval_steps_per_second': 13.588, 'epoch': 9.0}\n",
      "{'loss': 0.0124, 'learning_rate': 2.7380952380952383e-05, 'epoch': 9.05}\n",
      "{'loss': 0.0041, 'learning_rate': 2.714285714285714e-05, 'epoch': 9.14}\n",
      "{'loss': 0.0018, 'learning_rate': 2.6904761904761905e-05, 'epoch': 9.24}\n",
      "{'loss': 0.0033, 'learning_rate': 2.6666666666666667e-05, 'epoch': 9.33}\n",
      "{'loss': 0.0005, 'learning_rate': 2.642857142857143e-05, 'epoch': 9.43}\n",
      "{'loss': 0.0106, 'learning_rate': 2.6190476190476192e-05, 'epoch': 9.52}\n",
      "{'loss': 0.0115, 'learning_rate': 2.5952380952380957e-05, 'epoch': 9.62}\n",
      "{'loss': 0.0019, 'learning_rate': 2.5714285714285714e-05, 'epoch': 9.71}\n",
      "{'loss': 0.0025, 'learning_rate': 2.5476190476190476e-05, 'epoch': 9.81}\n",
      "{'loss': 0.01, 'learning_rate': 2.523809523809524e-05, 'epoch': 9.9}\n"
     ]
    },
    {
     "name": "stderr",
     "output_type": "stream",
     "text": [
      "***** Running Evaluation *****\n",
      "  Num examples = 70000\n",
      "  Batch size = 8\n"
     ]
    },
    {
     "name": "stdout",
     "output_type": "stream",
     "text": [
      "{'loss': 0.009, 'learning_rate': 2.5e-05, 'epoch': 10.0}\n"
     ]
    },
    {
     "data": {
      "application/vnd.jupyter.widget-view+json": {
       "model_id": "1156fe928d2e41da8358b405725bc9cd",
       "version_major": 2,
       "version_minor": 0
      },
      "text/plain": [
       "  0%|          | 0/8750 [00:00<?, ?it/s]"
      ]
     },
     "metadata": {},
     "output_type": "display_data"
    },
    {
     "name": "stdout",
     "output_type": "stream",
     "text": [
      "{'eval_loss': 4.685549736022949, 'eval_accuracy': 0.6191714285714286, 'eval_runtime': 644.0462, 'eval_samples_per_second': 108.688, 'eval_steps_per_second': 13.586, 'epoch': 10.0}\n",
      "{'loss': 0.0015, 'learning_rate': 2.4761904761904762e-05, 'epoch': 10.1}\n",
      "{'loss': 0.003, 'learning_rate': 2.4523809523809523e-05, 'epoch': 10.19}\n",
      "{'loss': 0.0016, 'learning_rate': 2.4285714285714288e-05, 'epoch': 10.29}\n",
      "{'loss': 0.0091, 'learning_rate': 2.404761904761905e-05, 'epoch': 10.38}\n",
      "{'loss': 0.0054, 'learning_rate': 2.380952380952381e-05, 'epoch': 10.48}\n",
      "{'loss': 0.0042, 'learning_rate': 2.357142857142857e-05, 'epoch': 10.57}\n",
      "{'loss': 0.0023, 'learning_rate': 2.3333333333333336e-05, 'epoch': 10.67}\n",
      "{'loss': 0.0059, 'learning_rate': 2.3095238095238097e-05, 'epoch': 10.76}\n",
      "{'loss': 0.0019, 'learning_rate': 2.2857142857142858e-05, 'epoch': 10.86}\n",
      "{'loss': 0.0056, 'learning_rate': 2.261904761904762e-05, 'epoch': 10.95}\n"
     ]
    },
    {
     "name": "stderr",
     "output_type": "stream",
     "text": [
      "***** Running Evaluation *****\n",
      "  Num examples = 70000\n",
      "  Batch size = 8\n"
     ]
    },
    {
     "data": {
      "application/vnd.jupyter.widget-view+json": {
       "model_id": "46dde44656244da99bc58ac1c7b3463f",
       "version_major": 2,
       "version_minor": 0
      },
      "text/plain": [
       "  0%|          | 0/8750 [00:00<?, ?it/s]"
      ]
     },
     "metadata": {},
     "output_type": "display_data"
    },
    {
     "name": "stdout",
     "output_type": "stream",
     "text": [
      "{'eval_loss': 4.395516872406006, 'eval_accuracy': 0.6322285714285715, 'eval_runtime': 644.5517, 'eval_samples_per_second': 108.603, 'eval_steps_per_second': 13.575, 'epoch': 11.0}\n",
      "{'loss': 0.0027, 'learning_rate': 2.2380952380952384e-05, 'epoch': 11.05}\n",
      "{'loss': 0.0011, 'learning_rate': 2.214285714285714e-05, 'epoch': 11.14}\n",
      "{'loss': 0.0078, 'learning_rate': 2.1904761904761906e-05, 'epoch': 11.24}\n",
      "{'loss': 0.0028, 'learning_rate': 2.1666666666666667e-05, 'epoch': 11.33}\n",
      "{'loss': 0.0023, 'learning_rate': 2.1428571428571428e-05, 'epoch': 11.43}\n",
      "{'loss': 0.0, 'learning_rate': 2.1190476190476193e-05, 'epoch': 11.52}\n",
      "{'loss': 0.0024, 'learning_rate': 2.0952380952380954e-05, 'epoch': 11.62}\n",
      "{'loss': 0.003, 'learning_rate': 2.0714285714285718e-05, 'epoch': 11.71}\n",
      "{'loss': 0.0021, 'learning_rate': 2.0476190476190476e-05, 'epoch': 11.81}\n",
      "{'loss': 0.0032, 'learning_rate': 2.023809523809524e-05, 'epoch': 11.9}\n"
     ]
    },
    {
     "name": "stderr",
     "output_type": "stream",
     "text": [
      "***** Running Evaluation *****\n",
      "  Num examples = 70000\n",
      "  Batch size = 8\n"
     ]
    },
    {
     "name": "stdout",
     "output_type": "stream",
     "text": [
      "{'loss': 0.0002, 'learning_rate': 2e-05, 'epoch': 12.0}\n"
     ]
    },
    {
     "data": {
      "application/vnd.jupyter.widget-view+json": {
       "model_id": "21808b6d4f20469484502433238394bf",
       "version_major": 2,
       "version_minor": 0
      },
      "text/plain": [
       "  0%|          | 0/8750 [00:00<?, ?it/s]"
      ]
     },
     "metadata": {},
     "output_type": "display_data"
    },
    {
     "name": "stdout",
     "output_type": "stream",
     "text": [
      "{'eval_loss': 4.5103068351745605, 'eval_accuracy': 0.6432857142857142, 'eval_runtime': 645.1996, 'eval_samples_per_second': 108.494, 'eval_steps_per_second': 13.562, 'epoch': 12.0}\n",
      "{'loss': 0.0, 'learning_rate': 1.9761904761904763e-05, 'epoch': 12.1}\n",
      "{'loss': 0.0031, 'learning_rate': 1.9523809523809524e-05, 'epoch': 12.19}\n",
      "{'loss': 0.0039, 'learning_rate': 1.928571428571429e-05, 'epoch': 12.29}\n",
      "{'loss': 0.0016, 'learning_rate': 1.9047619047619046e-05, 'epoch': 12.38}\n",
      "{'loss': 0.0, 'learning_rate': 1.880952380952381e-05, 'epoch': 12.48}\n",
      "{'loss': 0.01, 'learning_rate': 1.8571428571428572e-05, 'epoch': 12.57}\n",
      "{'loss': 0.0024, 'learning_rate': 1.8333333333333333e-05, 'epoch': 12.67}\n",
      "{'loss': 0.0025, 'learning_rate': 1.8095238095238094e-05, 'epoch': 12.76}\n",
      "{'loss': 0.0, 'learning_rate': 1.785714285714286e-05, 'epoch': 12.86}\n",
      "{'loss': 0.0021, 'learning_rate': 1.761904761904762e-05, 'epoch': 12.95}\n"
     ]
    },
    {
     "name": "stderr",
     "output_type": "stream",
     "text": [
      "***** Running Evaluation *****\n",
      "  Num examples = 70000\n",
      "  Batch size = 8\n"
     ]
    },
    {
     "data": {
      "application/vnd.jupyter.widget-view+json": {
       "model_id": "890c88a25a0c477baa10cdcd2d1b4e03",
       "version_major": 2,
       "version_minor": 0
      },
      "text/plain": [
       "  0%|          | 0/8750 [00:00<?, ?it/s]"
      ]
     },
     "metadata": {},
     "output_type": "display_data"
    },
    {
     "name": "stdout",
     "output_type": "stream",
     "text": [
      "{'eval_loss': 4.674953937530518, 'eval_accuracy': 0.6395857142857143, 'eval_runtime': 645.3298, 'eval_samples_per_second': 108.472, 'eval_steps_per_second': 13.559, 'epoch': 13.0}\n",
      "{'loss': 0.0015, 'learning_rate': 1.738095238095238e-05, 'epoch': 13.05}\n",
      "{'loss': 0.0, 'learning_rate': 1.7142857142857145e-05, 'epoch': 13.14}\n",
      "{'loss': 0.0, 'learning_rate': 1.6904761904761906e-05, 'epoch': 13.24}\n",
      "{'loss': 0.0, 'learning_rate': 1.6666666666666667e-05, 'epoch': 13.33}\n",
      "{'loss': 0.0001, 'learning_rate': 1.642857142857143e-05, 'epoch': 13.43}\n",
      "{'loss': 0.0057, 'learning_rate': 1.6190476190476193e-05, 'epoch': 13.52}\n",
      "{'loss': 0.0001, 'learning_rate': 1.595238095238095e-05, 'epoch': 13.62}\n",
      "{'loss': 0.0006, 'learning_rate': 1.5714285714285715e-05, 'epoch': 13.71}\n",
      "{'loss': 0.0, 'learning_rate': 1.5476190476190476e-05, 'epoch': 13.81}\n",
      "{'loss': 0.0, 'learning_rate': 1.5238095238095241e-05, 'epoch': 13.9}\n"
     ]
    },
    {
     "name": "stderr",
     "output_type": "stream",
     "text": [
      "***** Running Evaluation *****\n",
      "  Num examples = 70000\n",
      "  Batch size = 8\n"
     ]
    },
    {
     "name": "stdout",
     "output_type": "stream",
     "text": [
      "{'loss': 0.0037, 'learning_rate': 1.5e-05, 'epoch': 14.0}\n"
     ]
    },
    {
     "data": {
      "application/vnd.jupyter.widget-view+json": {
       "model_id": "db68ac40fdc443f5832bb0f4eef57298",
       "version_major": 2,
       "version_minor": 0
      },
      "text/plain": [
       "  0%|          | 0/8750 [00:00<?, ?it/s]"
      ]
     },
     "metadata": {},
     "output_type": "display_data"
    },
    {
     "name": "stdout",
     "output_type": "stream",
     "text": [
      "{'eval_loss': 5.061285972595215, 'eval_accuracy': 0.6324428571428572, 'eval_runtime': 644.0548, 'eval_samples_per_second': 108.686, 'eval_steps_per_second': 13.586, 'epoch': 14.0}\n",
      "{'loss': 0.0, 'learning_rate': 1.4761904761904763e-05, 'epoch': 14.1}\n",
      "{'loss': 0.0044, 'learning_rate': 1.4523809523809526e-05, 'epoch': 14.19}\n",
      "{'loss': 0.0002, 'learning_rate': 1.4285714285714285e-05, 'epoch': 14.29}\n",
      "{'loss': 0.0023, 'learning_rate': 1.4047619047619048e-05, 'epoch': 14.38}\n",
      "{'loss': 0.0, 'learning_rate': 1.3809523809523811e-05, 'epoch': 14.48}\n",
      "{'loss': 0.0001, 'learning_rate': 1.357142857142857e-05, 'epoch': 14.57}\n",
      "{'loss': 0.0, 'learning_rate': 1.3333333333333333e-05, 'epoch': 14.67}\n",
      "{'loss': 0.0024, 'learning_rate': 1.3095238095238096e-05, 'epoch': 14.76}\n",
      "{'loss': 0.0, 'learning_rate': 1.2857142857142857e-05, 'epoch': 14.86}\n",
      "{'loss': 0.0, 'learning_rate': 1.261904761904762e-05, 'epoch': 14.95}\n"
     ]
    },
    {
     "name": "stderr",
     "output_type": "stream",
     "text": [
      "***** Running Evaluation *****\n",
      "  Num examples = 70000\n",
      "  Batch size = 8\n"
     ]
    },
    {
     "data": {
      "application/vnd.jupyter.widget-view+json": {
       "model_id": "80e0a56a480247b4951bc1a749107b5d",
       "version_major": 2,
       "version_minor": 0
      },
      "text/plain": [
       "  0%|          | 0/8750 [00:00<?, ?it/s]"
      ]
     },
     "metadata": {},
     "output_type": "display_data"
    },
    {
     "name": "stdout",
     "output_type": "stream",
     "text": [
      "{'eval_loss': 5.06746768951416, 'eval_accuracy': 0.6483285714285715, 'eval_runtime': 643.7986, 'eval_samples_per_second': 108.73, 'eval_steps_per_second': 13.591, 'epoch': 15.0}\n",
      "{'loss': 0.0, 'learning_rate': 1.2380952380952381e-05, 'epoch': 15.05}\n",
      "{'loss': 0.0, 'learning_rate': 1.2142857142857144e-05, 'epoch': 15.14}\n",
      "{'loss': 0.0052, 'learning_rate': 1.1904761904761905e-05, 'epoch': 15.24}\n",
      "{'loss': 0.0016, 'learning_rate': 1.1666666666666668e-05, 'epoch': 15.33}\n",
      "{'loss': 0.0, 'learning_rate': 1.1428571428571429e-05, 'epoch': 15.43}\n",
      "{'loss': 0.0, 'learning_rate': 1.1190476190476192e-05, 'epoch': 15.52}\n",
      "{'loss': 0.0, 'learning_rate': 1.0952380952380953e-05, 'epoch': 15.62}\n",
      "{'loss': 0.0, 'learning_rate': 1.0714285714285714e-05, 'epoch': 15.71}\n",
      "{'loss': 0.0, 'learning_rate': 1.0476190476190477e-05, 'epoch': 15.81}\n",
      "{'loss': 0.0, 'learning_rate': 1.0238095238095238e-05, 'epoch': 15.9}\n"
     ]
    },
    {
     "name": "stderr",
     "output_type": "stream",
     "text": [
      "***** Running Evaluation *****\n",
      "  Num examples = 70000\n",
      "  Batch size = 8\n"
     ]
    },
    {
     "name": "stdout",
     "output_type": "stream",
     "text": [
      "{'loss': 0.0, 'learning_rate': 1e-05, 'epoch': 16.0}\n"
     ]
    },
    {
     "data": {
      "application/vnd.jupyter.widget-view+json": {
       "model_id": "2e5a4180eabf45f992448c68aa4d612f",
       "version_major": 2,
       "version_minor": 0
      },
      "text/plain": [
       "  0%|          | 0/8750 [00:00<?, ?it/s]"
      ]
     },
     "metadata": {},
     "output_type": "display_data"
    },
    {
     "name": "stdout",
     "output_type": "stream",
     "text": [
      "{'eval_loss': 5.60060977935791, 'eval_accuracy': 0.6299571428571429, 'eval_runtime': 644.4035, 'eval_samples_per_second': 108.628, 'eval_steps_per_second': 13.578, 'epoch': 16.0}\n",
      "{'loss': 0.0027, 'learning_rate': 9.761904761904762e-06, 'epoch': 16.1}\n",
      "{'loss': 0.0, 'learning_rate': 9.523809523809523e-06, 'epoch': 16.19}\n",
      "{'loss': 0.0, 'learning_rate': 9.285714285714286e-06, 'epoch': 16.29}\n",
      "{'loss': 0.0, 'learning_rate': 9.047619047619047e-06, 'epoch': 16.38}\n",
      "{'loss': 0.0, 'learning_rate': 8.80952380952381e-06, 'epoch': 16.48}\n",
      "{'loss': 0.0, 'learning_rate': 8.571428571428573e-06, 'epoch': 16.57}\n",
      "{'loss': 0.0, 'learning_rate': 8.333333333333334e-06, 'epoch': 16.67}\n",
      "{'loss': 0.0, 'learning_rate': 8.095238095238097e-06, 'epoch': 16.76}\n",
      "{'loss': 0.0, 'learning_rate': 7.857142857142858e-06, 'epoch': 16.86}\n",
      "{'loss': 0.0, 'learning_rate': 7.6190476190476205e-06, 'epoch': 16.95}\n"
     ]
    },
    {
     "name": "stderr",
     "output_type": "stream",
     "text": [
      "***** Running Evaluation *****\n",
      "  Num examples = 70000\n",
      "  Batch size = 8\n"
     ]
    },
    {
     "data": {
      "application/vnd.jupyter.widget-view+json": {
       "model_id": "d22df6d6b6ce4c6a80dbf171df0866ad",
       "version_major": 2,
       "version_minor": 0
      },
      "text/plain": [
       "  0%|          | 0/8750 [00:00<?, ?it/s]"
      ]
     },
     "metadata": {},
     "output_type": "display_data"
    },
    {
     "name": "stdout",
     "output_type": "stream",
     "text": [
      "{'eval_loss': 5.661205768585205, 'eval_accuracy': 0.6334714285714286, 'eval_runtime': 648.8878, 'eval_samples_per_second': 107.877, 'eval_steps_per_second': 13.485, 'epoch': 17.0}\n",
      "{'loss': 0.0004, 'learning_rate': 7.380952380952382e-06, 'epoch': 17.05}\n",
      "{'loss': 0.0, 'learning_rate': 7.142857142857143e-06, 'epoch': 17.14}\n",
      "{'loss': 0.0, 'learning_rate': 6.9047619047619055e-06, 'epoch': 17.24}\n",
      "{'loss': 0.0, 'learning_rate': 6.666666666666667e-06, 'epoch': 17.33}\n",
      "{'loss': 0.0027, 'learning_rate': 6.428571428571429e-06, 'epoch': 17.43}\n",
      "{'loss': 0.0, 'learning_rate': 6.190476190476191e-06, 'epoch': 17.52}\n",
      "{'loss': 0.0, 'learning_rate': 5.9523809523809525e-06, 'epoch': 17.62}\n",
      "{'loss': 0.0004, 'learning_rate': 5.7142857142857145e-06, 'epoch': 17.71}\n",
      "{'loss': 0.0, 'learning_rate': 5.4761904761904765e-06, 'epoch': 17.81}\n",
      "{'loss': 0.0, 'learning_rate': 5.2380952380952384e-06, 'epoch': 17.9}\n"
     ]
    },
    {
     "name": "stderr",
     "output_type": "stream",
     "text": [
      "***** Running Evaluation *****\n",
      "  Num examples = 70000\n",
      "  Batch size = 8\n"
     ]
    },
    {
     "name": "stdout",
     "output_type": "stream",
     "text": [
      "{'loss': 0.0, 'learning_rate': 5e-06, 'epoch': 18.0}\n"
     ]
    },
    {
     "data": {
      "application/vnd.jupyter.widget-view+json": {
       "model_id": "810eec017e704a80b1cc8e8c7aefd712",
       "version_major": 2,
       "version_minor": 0
      },
      "text/plain": [
       "  0%|          | 0/8750 [00:00<?, ?it/s]"
      ]
     },
     "metadata": {},
     "output_type": "display_data"
    },
    {
     "name": "stdout",
     "output_type": "stream",
     "text": [
      "{'eval_loss': 5.4780659675598145, 'eval_accuracy': 0.6364857142857143, 'eval_runtime': 644.0097, 'eval_samples_per_second': 108.694, 'eval_steps_per_second': 13.587, 'epoch': 18.0}\n",
      "{'loss': 0.0, 'learning_rate': 4.7619047619047615e-06, 'epoch': 18.1}\n",
      "{'loss': 0.0, 'learning_rate': 4.5238095238095235e-06, 'epoch': 18.19}\n",
      "{'loss': 0.0, 'learning_rate': 4.285714285714286e-06, 'epoch': 18.29}\n",
      "{'loss': 0.0, 'learning_rate': 4.047619047619048e-06, 'epoch': 18.38}\n",
      "{'loss': 0.0, 'learning_rate': 3.8095238095238102e-06, 'epoch': 18.48}\n",
      "{'loss': 0.0, 'learning_rate': 3.5714285714285714e-06, 'epoch': 18.57}\n",
      "{'loss': 0.0, 'learning_rate': 3.3333333333333333e-06, 'epoch': 18.67}\n",
      "{'loss': 0.0, 'learning_rate': 3.0952380952380953e-06, 'epoch': 18.76}\n",
      "{'loss': 0.0, 'learning_rate': 2.8571428571428573e-06, 'epoch': 18.86}\n",
      "{'loss': 0.0023, 'learning_rate': 2.6190476190476192e-06, 'epoch': 18.95}\n"
     ]
    },
    {
     "name": "stderr",
     "output_type": "stream",
     "text": [
      "***** Running Evaluation *****\n",
      "  Num examples = 70000\n",
      "  Batch size = 8\n"
     ]
    },
    {
     "data": {
      "application/vnd.jupyter.widget-view+json": {
       "model_id": "60017fd95a3a48f58075b690a9ec0e04",
       "version_major": 2,
       "version_minor": 0
      },
      "text/plain": [
       "  0%|          | 0/8750 [00:00<?, ?it/s]"
      ]
     },
     "metadata": {},
     "output_type": "display_data"
    },
    {
     "name": "stdout",
     "output_type": "stream",
     "text": [
      "{'eval_loss': 5.475131511688232, 'eval_accuracy': 0.6393285714285715, 'eval_runtime': 643.3178, 'eval_samples_per_second': 108.811, 'eval_steps_per_second': 13.601, 'epoch': 19.0}\n",
      "{'loss': 0.0, 'learning_rate': 2.3809523809523808e-06, 'epoch': 19.05}\n",
      "{'loss': 0.0, 'learning_rate': 2.142857142857143e-06, 'epoch': 19.14}\n",
      "{'loss': 0.0, 'learning_rate': 1.9047619047619051e-06, 'epoch': 19.24}\n",
      "{'loss': 0.0, 'learning_rate': 1.6666666666666667e-06, 'epoch': 19.33}\n",
      "{'loss': 0.0, 'learning_rate': 1.4285714285714286e-06, 'epoch': 19.43}\n",
      "{'loss': 0.0, 'learning_rate': 1.1904761904761904e-06, 'epoch': 19.52}\n",
      "{'loss': 0.0, 'learning_rate': 9.523809523809526e-07, 'epoch': 19.62}\n",
      "{'loss': 0.0, 'learning_rate': 7.142857142857143e-07, 'epoch': 19.71}\n",
      "{'loss': 0.0001, 'learning_rate': 4.761904761904763e-07, 'epoch': 19.81}\n",
      "{'loss': 0.0, 'learning_rate': 2.3809523809523814e-07, 'epoch': 19.9}\n"
     ]
    },
    {
     "name": "stderr",
     "output_type": "stream",
     "text": [
      "***** Running Evaluation *****\n",
      "  Num examples = 70000\n",
      "  Batch size = 8\n"
     ]
    },
    {
     "name": "stdout",
     "output_type": "stream",
     "text": [
      "{'loss': 0.0, 'learning_rate': 0.0, 'epoch': 20.0}\n"
     ]
    },
    {
     "data": {
      "application/vnd.jupyter.widget-view+json": {
       "model_id": "197110f782fe47ee97ed4ad1a95c664c",
       "version_major": 2,
       "version_minor": 0
      },
      "text/plain": [
       "  0%|          | 0/8750 [00:00<?, ?it/s]"
      ]
     },
     "metadata": {},
     "output_type": "display_data"
    },
    {
     "name": "stderr",
     "output_type": "stream",
     "text": [
      "\n",
      "\n",
      "Training completed. Do not forget to share your model on huggingface.co/models =)\n",
      "\n",
      "\n"
     ]
    },
    {
     "name": "stdout",
     "output_type": "stream",
     "text": [
      "{'eval_loss': 5.533255577087402, 'eval_accuracy': 0.6378142857142857, 'eval_runtime': 645.005, 'eval_samples_per_second': 108.526, 'eval_steps_per_second': 13.566, 'epoch': 20.0}\n",
      "{'train_runtime': 37266.5365, 'train_samples_per_second': 22.54, 'train_steps_per_second': 2.818, 'train_loss': 0.021139337502380545, 'epoch': 20.0}\n"
     ]
    },
    {
     "data": {
      "text/plain": [
       "TrainOutput(global_step=105000, training_loss=0.021139337502380545, metrics={'train_runtime': 37266.5365, 'train_samples_per_second': 22.54, 'train_steps_per_second': 2.818, 'train_loss': 0.021139337502380545, 'epoch': 20.0})"
      ]
     },
     "execution_count": 22,
     "metadata": {},
     "output_type": "execute_result"
    }
   ],
   "source": [
    "trainer.train()"
   ]
  },
  {
   "cell_type": "code",
   "execution_count": 23,
   "metadata": {},
   "outputs": [
    {
     "name": "stderr",
     "output_type": "stream",
     "text": [
      "Configuration saved in ../model/Proposed-Word2Vec-GPT2_20221125153534/config.json\n",
      "Model weights saved in ../model/Proposed-Word2Vec-GPT2_20221125153534/pytorch_model.bin\n"
     ]
    }
   ],
   "source": [
    "model.save_pretrained(SAVED_MODEL)"
   ]
  },
  {
   "cell_type": "markdown",
   "metadata": {},
   "source": [
    "# Test"
   ]
  },
  {
   "cell_type": "code",
   "execution_count": 24,
   "metadata": {},
   "outputs": [
    {
     "name": "stderr",
     "output_type": "stream",
     "text": [
      "loading configuration file ../model/Proposed-Word2Vec-GPT2_20221125153534/config.json\n",
      "Model config GPT2Config {\n",
      "  \"_name_or_path\": \"../model/Proposed-Word2Vec-GPT2_20221125153534\",\n",
      "  \"activation_function\": \"gelu_new\",\n",
      "  \"architectures\": [\n",
      "    \"GPT2ForSequenceClassification\"\n",
      "  ],\n",
      "  \"attn_pdrop\": 0.1,\n",
      "  \"bos_token_id\": 50256,\n",
      "  \"embd_pdrop\": 0.1,\n",
      "  \"eos_token_id\": 50256,\n",
      "  \"id2label\": {\n",
      "    \"0\": \"LABEL_0\",\n",
      "    \"1\": \"LABEL_1\",\n",
      "    \"2\": \"LABEL_2\",\n",
      "    \"3\": \"LABEL_3\",\n",
      "    \"4\": \"LABEL_4\",\n",
      "    \"5\": \"LABEL_5\",\n",
      "    \"6\": \"LABEL_6\",\n",
      "    \"7\": \"LABEL_7\",\n",
      "    \"8\": \"LABEL_8\",\n",
      "    \"9\": \"LABEL_9\",\n",
      "    \"10\": \"LABEL_10\",\n",
      "    \"11\": \"LABEL_11\",\n",
      "    \"12\": \"LABEL_12\",\n",
      "    \"13\": \"LABEL_13\"\n",
      "  },\n",
      "  \"initializer_range\": 0.02,\n",
      "  \"label2id\": {\n",
      "    \"LABEL_0\": 0,\n",
      "    \"LABEL_1\": 1,\n",
      "    \"LABEL_10\": 10,\n",
      "    \"LABEL_11\": 11,\n",
      "    \"LABEL_12\": 12,\n",
      "    \"LABEL_13\": 13,\n",
      "    \"LABEL_2\": 2,\n",
      "    \"LABEL_3\": 3,\n",
      "    \"LABEL_4\": 4,\n",
      "    \"LABEL_5\": 5,\n",
      "    \"LABEL_6\": 6,\n",
      "    \"LABEL_7\": 7,\n",
      "    \"LABEL_8\": 8,\n",
      "    \"LABEL_9\": 9\n",
      "  },\n",
      "  \"layer_norm_epsilon\": 1e-05,\n",
      "  \"model_type\": \"gpt2\",\n",
      "  \"n_ctx\": 1024,\n",
      "  \"n_embd\": 768,\n",
      "  \"n_head\": 12,\n",
      "  \"n_inner\": null,\n",
      "  \"n_layer\": 12,\n",
      "  \"n_positions\": 1024,\n",
      "  \"pad_token_id\": 50256,\n",
      "  \"problem_type\": \"single_label_classification\",\n",
      "  \"reorder_and_upcast_attn\": false,\n",
      "  \"resid_pdrop\": 0.1,\n",
      "  \"scale_attn_by_inverse_layer_idx\": false,\n",
      "  \"scale_attn_weights\": true,\n",
      "  \"summary_activation\": null,\n",
      "  \"summary_first_dropout\": 0.1,\n",
      "  \"summary_proj_to_labels\": true,\n",
      "  \"summary_type\": \"cls_index\",\n",
      "  \"summary_use_proj\": true,\n",
      "  \"task_specific_params\": {\n",
      "    \"text-generation\": {\n",
      "      \"do_sample\": true,\n",
      "      \"max_length\": 50\n",
      "    }\n",
      "  },\n",
      "  \"torch_dtype\": \"float32\",\n",
      "  \"transformers_version\": \"4.24.0\",\n",
      "  \"use_cache\": true,\n",
      "  \"vocab_size\": 50257\n",
      "}\n",
      "\n",
      "loading weights file ../model/Proposed-Word2Vec-GPT2_20221125153534/pytorch_model.bin\n",
      "All model checkpoint weights were used when initializing GPT2ForSequenceClassification.\n",
      "\n",
      "All the weights of GPT2ForSequenceClassification were initialized from the model checkpoint at ../model/Proposed-Word2Vec-GPT2_20221125153534.\n",
      "If your task is similar to the task the model of the checkpoint was trained on, you can already use GPT2ForSequenceClassification for predictions without further training.\n",
      "PyTorch: setting up devices\n"
     ]
    }
   ],
   "source": [
    "model = AutoModelForSequenceClassification.from_pretrained(SAVED_MODEL)\n",
    "\n",
    "training_args = TrainingArguments(output_dir=SAVED_MODEL,report_to=\"none\")\n",
    "trainer = Trainer(model=model, args=training_args)"
   ]
  },
  {
   "cell_type": "code",
   "execution_count": 25,
   "metadata": {},
   "outputs": [
    {
     "name": "stderr",
     "output_type": "stream",
     "text": [
      "***** Running Prediction *****\n",
      "  Num examples = 70000\n",
      "  Batch size = 8\n"
     ]
    },
    {
     "data": {
      "application/vnd.jupyter.widget-view+json": {
       "model_id": "562b03086908437fbbdab397e1d1225a",
       "version_major": 2,
       "version_minor": 0
      },
      "text/plain": [
       "  0%|          | 0/8750 [00:00<?, ?it/s]"
      ]
     },
     "metadata": {},
     "output_type": "display_data"
    }
   ],
   "source": [
    "pred = trainer.predict(small_eval_dataset)"
   ]
  },
  {
   "cell_type": "code",
   "execution_count": 26,
   "metadata": {},
   "outputs": [
    {
     "name": "stdout",
     "output_type": "stream",
     "text": [
      "              precision    recall  f1-score   support\n",
      "\n",
      "        Com.      0.812     0.441     0.572      5000\n",
      "        Edu.      0.678     0.525     0.592      5000\n",
      "        Art.      0.689     0.593     0.638      5000\n",
      "        Ath.      0.762     0.960     0.850      5000\n",
      "        Off.      0.660     0.677     0.668      5000\n",
      "        Mea.      0.717     0.451     0.554      5000\n",
      "        Bui.      0.744     0.408     0.527      5000\n",
      "        Nat.      0.319     0.717     0.442      5000\n",
      "        Vil.      0.616     0.980     0.756      5000\n",
      "        Ani.      0.646     0.470     0.544      5000\n",
      "        Pla.      0.673     0.617     0.644      5000\n",
      "        Alb.      0.926     0.906     0.916      5000\n",
      "        Fil.      0.857     0.498     0.630      5000\n",
      "        Wri.      0.522     0.686     0.593      5000\n",
      "\n",
      "    accuracy                          0.638     70000\n",
      "   macro avg      0.687     0.638     0.637     70000\n",
      "weighted avg      0.687     0.638     0.637     70000\n",
      "\n"
     ]
    }
   ],
   "source": [
    "from sklearn.metrics import classification_report\n",
    "y_pred = [np.argmax(i) for i in pred.predictions]\n",
    "\n",
    "target_names = [c[:3]+\".\" for c in classes]\n",
    "\n",
    "rep = classification_report(pred.label_ids, y_pred, target_names=target_names, digits=3)\n",
    "print(rep)"
   ]
  }
 ],
 "metadata": {
  "kernelspec": {
   "display_name": "Python 3.9.1 64-bit ('3.9.1')",
   "language": "python",
   "name": "python3"
  },
  "language_info": {
   "codemirror_mode": {
    "name": "ipython",
    "version": 3
   },
   "file_extension": ".py",
   "mimetype": "text/x-python",
   "name": "python",
   "nbconvert_exporter": "python",
   "pygments_lexer": "ipython3",
   "version": "3.9.1"
  },
  "orig_nbformat": 4,
  "vscode": {
   "interpreter": {
    "hash": "6ad87dd819912217535c9e765bf7b9ebff52cfacfae1ecabbf23377bfd4399d6"
   }
  }
 },
 "nbformat": 4,
 "nbformat_minor": 2
}
